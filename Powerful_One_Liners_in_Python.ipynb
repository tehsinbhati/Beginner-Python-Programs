{
  "nbformat": 4,
  "nbformat_minor": 0,
  "metadata": {
    "colab": {
      "provenance": []
    },
    "kernelspec": {
      "name": "python3",
      "display_name": "Python 3"
    },
    "language_info": {
      "name": "python"
    },
    "gpuClass": "standard"
  },
  "cells": [
    {
      "cell_type": "markdown",
      "source": [
        "# Powerful One-Liners in Python"
      ],
      "metadata": {
        "id": "k_ZHQ1bve2us"
      }
    },
    {
      "cell_type": "markdown",
      "source": [
        "##1.Prime Numbers"
      ],
      "metadata": {
        "id": "lJOMfSghfYlO"
      }
    },
    {
      "cell_type": "code",
      "source": [
        "#prime number 1 to 200\n",
        "Prime=list(filter(lambda x:all(x%y!=0 for y in range(2,x)),range(2,200)))\n",
        "#this program have list comprehension with Lambda function to get all prime numbers \n",
        "#from 1 to 200 (1 is not a prime number basic maths knowledge)"
      ],
      "metadata": {
        "id": "PiL5SVvW5sEl"
      },
      "execution_count": 1,
      "outputs": []
    },
    {
      "cell_type": "code",
      "source": [
        "print(Prime)"
      ],
      "metadata": {
        "colab": {
          "base_uri": "https://localhost:8080/"
        },
        "id": "UY-06q59bZHg",
        "outputId": "8a9bb11e-d9c3-4061-9c62-711780685274"
      },
      "execution_count": 2,
      "outputs": [
        {
          "output_type": "stream",
          "name": "stdout",
          "text": [
            "[2, 3, 5, 7, 11, 13, 17, 19, 23, 29, 31, 37, 41, 43, 47, 53, 59, 61, 67, 71, 73, 79, 83, 89, 97, 101, 103, 107, 109, 113, 127, 131, 137, 139, 149, 151, 157, 163, 167, 173, 179, 181, 191, 193, 197, 199]\n"
          ]
        }
      ]
    },
    {
      "cell_type": "code",
      "source": [
        "#Also print them in one ;ine\n",
        "print(list(filter(lambda x:all(x%y!=0 for y in range(2,x)),range(1,200))))"
      ],
      "metadata": {
        "colab": {
          "base_uri": "https://localhost:8080/"
        },
        "id": "qnqOXIozbgRs",
        "outputId": "e8c56154-0b77-4ce0-bf48-b911228a9078"
      },
      "execution_count": 5,
      "outputs": [
        {
          "output_type": "stream",
          "name": "stdout",
          "text": [
            "[1, 2, 3, 5, 7, 11, 13, 17, 19, 23, 29, 31, 37, 41, 43, 47, 53, 59, 61, 67, 71, 73, 79, 83, 89, 97, 101, 103, 107, 109, 113, 127, 131, 137, 139, 149, 151, 157, 163, 167, 173, 179, 181, 191, 193, 197, 199]\n"
          ]
        }
      ]
    },
    {
      "cell_type": "markdown",
      "source": [
        "##2.Swap Two Numbers\n"
      ],
      "metadata": {
        "id": "heEahbRdftrO"
      }
    },
    {
      "cell_type": "code",
      "source": [
        "n1=6\n",
        "n2=8\n",
        "n1,n2=n2,n1 #swap in one line\n",
        "print(\"n1=\",n1,\"n2=\",n2)"
      ],
      "metadata": {
        "colab": {
          "base_uri": "https://localhost:8080/"
        },
        "id": "FXWwkEaRfgb_",
        "outputId": "9fd31c9c-4527-4978-aaa7-5dfeb2f7b607"
      },
      "execution_count": 10,
      "outputs": [
        {
          "output_type": "stream",
          "name": "stdout",
          "text": [
            "n1= 8 n2= 6\n"
          ]
        }
      ]
    },
    {
      "cell_type": "markdown",
      "source": [
        "##3.Reverse a string\n"
      ],
      "metadata": {
        "id": "qQ1BaJLzgMUX"
      }
    },
    {
      "cell_type": "code",
      "source": [
        "myName='TehsinBhati'\n",
        "reversed_string= myName[::-1]\n",
        "print(\"reversed string=\",reversed_string)\n",
        "#also print in one line\n",
        "print(\"Print=\",myName[::-1])"
      ],
      "metadata": {
        "colab": {
          "base_uri": "https://localhost:8080/"
        },
        "id": "VPOVi0vWbkAX",
        "outputId": "d5a4650e-9cd1-4455-b178-a23fb8b72379"
      },
      "execution_count": 15,
      "outputs": [
        {
          "output_type": "stream",
          "name": "stdout",
          "text": [
            "reversed string= itahBnisheT\n",
            "Print= itahBnisheT\n"
          ]
        }
      ]
    },
    {
      "cell_type": "markdown",
      "source": [
        "##4.Factorial of a number\n"
      ],
      "metadata": {
        "id": "yYNhbgrig4Kq"
      }
    },
    {
      "cell_type": "code",
      "source": [
        "#n=5 \n",
        "n=int(input('Enter Number: '))\n",
        "fact= lambda n:[1,0][n>1] or fact(n-1)*n \n",
        "print('Factorial of',n,' is =',fact(n))"
      ],
      "metadata": {
        "colab": {
          "base_uri": "https://localhost:8080/"
        },
        "id": "iTtRlKoWgaQk",
        "outputId": "da8a4fe6-c82c-4a14-8c09-618254adf1b0"
      },
      "execution_count": 32,
      "outputs": [
        {
          "output_type": "stream",
          "name": "stdout",
          "text": [
            "Enter Number: 5\n",
            "Factorial of 5  is = 120\n"
          ]
        }
      ]
    },
    {
      "cell_type": "markdown",
      "source": [
        "##5.String Palindrome"
      ],
      "metadata": {
        "id": "Qsn60mJ1i2Ig"
      }
    },
    {
      "cell_type": "code",
      "source": [
        "input_string=input(\"Enter String:\")\n",
        "palindrome=input_string == input_string[::-1]\n",
        "print(palindrome)"
      ],
      "metadata": {
        "colab": {
          "base_uri": "https://localhost:8080/"
        },
        "id": "vh14m00Th_rE",
        "outputId": "ccbdb2ec-d625-4662-93c0-5e267d7060d9"
      },
      "execution_count": 36,
      "outputs": [
        {
          "output_type": "stream",
          "name": "stdout",
          "text": [
            "Enter String:level\n",
            "True\n"
          ]
        }
      ]
    },
    {
      "cell_type": "code",
      "source": [],
      "metadata": {
        "id": "S27fhFVQjM_Q"
      },
      "execution_count": null,
      "outputs": []
    }
  ]
}